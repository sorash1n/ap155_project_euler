{
 "cells": [
  {
   "cell_type": "code",
   "execution_count": 1,
   "id": "b67e39de-0457-4f40-9467-002c33355ac6",
   "metadata": {},
   "outputs": [
    {
     "data": {
      "text/plain": [
       "4613732"
      ]
     },
     "execution_count": 1,
     "metadata": {},
     "output_type": "execute_result"
    }
   ],
   "source": [
    "def fib():\n",
    "    a, b = 1, 2\n",
    "    total = 0\n",
    "    \n",
    "    while a <= 4000000:\n",
    "        \n",
    "        if a % 2 == 0:\n",
    "            total += a\n",
    "\n",
    "        a, b = b, a + b\n",
    "    return total\n",
    "\n",
    "fib ()"
   ]
  },
  {
   "cell_type": "code",
   "execution_count": 2,
   "id": "9f76c4f3-63b7-4056-8df7-e310645ac5b8",
   "metadata": {},
   "outputs": [],
   "source": [
    "def greet(name):\n",
    "    print(\"Hello,\", name)"
   ]
  },
  {
   "cell_type": "code",
   "execution_count": 3,
   "id": "25b67cee-9dd2-41b7-a1d9-6b8608327eb6",
   "metadata": {},
   "outputs": [
    {
     "name": "stdout",
     "output_type": "stream",
     "text": [
      "Hello, Elijah\n"
     ]
    }
   ],
   "source": [
    "greet(\"Elijah\")"
   ]
  },
  {
   "cell_type": "code",
   "execution_count": 4,
   "id": "64c0a00c-b785-4c4a-9ac2-2893b664345e",
   "metadata": {},
   "outputs": [
    {
     "name": "stdout",
     "output_type": "stream",
     "text": [
      "15\n"
     ]
    }
   ],
   "source": [
    "x = 10\n",
    "x += 5\n",
    "\n",
    "print(x)"
   ]
  },
  {
   "cell_type": "code",
   "execution_count": 5,
   "id": "106dca08-cbad-4334-a0f0-44f75c538803",
   "metadata": {},
   "outputs": [
    {
     "name": "stdout",
     "output_type": "stream",
     "text": [
      "4613732\n"
     ]
    }
   ],
   "source": [
    "a, b = 1, 2\n",
    "total = 0\n",
    "    \n",
    "while a <= 4000000:\n",
    "        \n",
    "    if a % 2 == 0:\n",
    "        total += a\n",
    "\n",
    "    a, b = b, a + b\n",
    "print(total)"
   ]
  }
 ],
 "metadata": {
  "kernelspec": {
   "display_name": "Python 3 (ipykernel)",
   "language": "python",
   "name": "python3"
  },
  "language_info": {
   "codemirror_mode": {
    "name": "ipython",
    "version": 3
   },
   "file_extension": ".py",
   "mimetype": "text/x-python",
   "name": "python",
   "nbconvert_exporter": "python",
   "pygments_lexer": "ipython3",
   "version": "3.13.6"
  }
 },
 "nbformat": 4,
 "nbformat_minor": 5
}
