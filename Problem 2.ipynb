{
 "cells": [
  {
   "cell_type": "code",
   "execution_count": 1,
   "id": "b67e39de-0457-4f40-9467-002c33355ac6",
   "metadata": {},
   "outputs": [
    {
     "data": {
      "text/plain": [
       "4613732"
      ]
     },
     "execution_count": 1,
     "metadata": {},
     "output_type": "execute_result"
    }
   ],
   "source": [
    "def fib():\n",
    "    a, b = 1, 2\n",
    "    total = 0\n",
    "    \n",
    "    while a <= 4000000:\n",
    "        \n",
    "        if a % 2 == 0:\n",
    "            total += a\n",
    "\n",
    "        a, b = b, a + b\n",
    "\n",
    "    return total\n",
    "fib ()"
   ]
  }
 ],
 "metadata": {
  "kernelspec": {
   "display_name": "Python 3 (ipykernel)",
   "language": "python",
   "name": "python3"
  },
  "language_info": {
   "codemirror_mode": {
    "name": "ipython",
    "version": 3
   },
   "file_extension": ".py",
   "mimetype": "text/x-python",
   "name": "python",
   "nbconvert_exporter": "python",
   "pygments_lexer": "ipython3",
   "version": "3.13.6"
  }
 },
 "nbformat": 4,
 "nbformat_minor": 5
}
