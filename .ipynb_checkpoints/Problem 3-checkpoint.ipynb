{
 "cells": [
  {
   "cell_type": "code",
   "execution_count": 3,
   "id": "44a4ea2e-aa6a-4d26-9706-469fb2ed347d",
   "metadata": {},
   "outputs": [
    {
     "name": "stdout",
     "output_type": "stream",
     "text": [
      "29\n",
      "6857\n"
     ]
    }
   ],
   "source": [
    "def largest_prime_factor(n):\n",
    "    factor = 2 \n",
    "    while factor * factor <= n: # loop ends if factor < sqrt(n)\n",
    "        if n % factor == 0:\n",
    "            n //= factor  \n",
    "        else:\n",
    "            factor += 1 \n",
    "    return n  # whatever remains is the largest prime factor\n",
    "\n",
    "print(largest_prime_factor(13195))\n",
    "print(largest_prime_factor(600851475143))"
   ]
  }
 ],
 "metadata": {
  "kernelspec": {
   "display_name": "Python 3 (ipykernel)",
   "language": "python",
   "name": "python3"
  },
  "language_info": {
   "codemirror_mode": {
    "name": "ipython",
    "version": 3
   },
   "file_extension": ".py",
   "mimetype": "text/x-python",
   "name": "python",
   "nbconvert_exporter": "python",
   "pygments_lexer": "ipython3",
   "version": "3.13.6"
  }
 },
 "nbformat": 4,
 "nbformat_minor": 5
}
