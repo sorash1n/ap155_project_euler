{
 "cells": [
  {
   "cell_type": "code",
   "execution_count": 1,
   "id": "6fab4c35-d702-4592-8c15-6c8473cd591a",
   "metadata": {},
   "outputs": [
    {
     "name": "stdout",
     "output_type": "stream",
     "text": [
      "[3, 5, 6, 9, 10, 12, 15, 18, 20, 21, 24, 25, 27, 30, 33, 35, 36, 39, 40, 42, 45, 48, 50, 51, 54, 55, 57, 60, 63, 65, 66, 69, 70, 72, 75, 78, 80, 81, 84, 85, 87, 90, 93, 95, 96, 99, 100, 102, 105, 108, 110, 111, 114, 115, 117, 120, 123, 125, 126, 129, 130, 132, 135, 138, 140, 141, 144, 145, 147, 150, 153, 155, 156, 159, 160, 162, 165, 168, 170, 171, 174, 175, 177, 180, 183, 185, 186, 189, 190, 192, 195, 198, 200, 201, 204, 205, 207, 210, 213, 215, 216, 219, 220, 222, 225, 228, 230, 231, 234, 235, 237, 240, 243, 245, 246, 249, 250, 252, 255, 258, 260, 261, 264, 265, 267, 270, 273, 275, 276, 279, 280, 282, 285, 288, 290, 291, 294, 295, 297, 300, 303, 305, 306, 309, 310, 312, 315, 318, 320, 321, 324, 325, 327, 330, 333, 335, 336, 339, 340, 342, 345, 348, 350, 351, 354, 355, 357, 360, 363, 365, 366, 369, 370, 372, 375, 378, 380, 381, 384, 385, 387, 390, 393, 395, 396, 399, 400, 402, 405, 408, 410, 411, 414, 415, 417, 420, 423, 425, 426, 429, 430, 432, 435, 438, 440, 441, 444, 445, 447, 450, 453, 455, 456, 459, 460, 462, 465, 468, 470, 471, 474, 475, 477, 480, 483, 485, 486, 489, 490, 492, 495, 498, 500, 501, 504, 505, 507, 510, 513, 515, 516, 519, 520, 522, 525, 528, 530, 531, 534, 535, 537, 540, 543, 545, 546, 549, 550, 552, 555, 558, 560, 561, 564, 565, 567, 570, 573, 575, 576, 579, 580, 582, 585, 588, 590, 591, 594, 595, 597, 600, 603, 605, 606, 609, 610, 612, 615, 618, 620, 621, 624, 625, 627, 630, 633, 635, 636, 639, 640, 642, 645, 648, 650, 651, 654, 655, 657, 660, 663, 665, 666, 669, 670, 672, 675, 678, 680, 681, 684, 685, 687, 690, 693, 695, 696, 699, 700, 702, 705, 708, 710, 711, 714, 715, 717, 720, 723, 725, 726, 729, 730, 732, 735, 738, 740, 741, 744, 745, 747, 750, 753, 755, 756, 759, 760, 762, 765, 768, 770, 771, 774, 775, 777, 780, 783, 785, 786, 789, 790, 792, 795, 798, 800, 801, 804, 805, 807, 810, 813, 815, 816, 819, 820, 822, 825, 828, 830, 831, 834, 835, 837, 840, 843, 845, 846, 849, 850, 852, 855, 858, 860, 861, 864, 865, 867, 870, 873, 875, 876, 879, 880, 882, 885, 888, 890, 891, 894, 895, 897, 900, 903, 905, 906, 909, 910, 912, 915, 918, 920, 921, 924, 925, 927, 930, 933, 935, 936, 939, 940, 942, 945, 948, 950, 951, 954, 955, 957, 960, 963, 965, 966, 969, 970, 972, 975, 978, 980, 981, 984, 985, 987, 990, 993, 995, 996, 999]\n"
     ]
    }
   ],
   "source": [
    "multiples = [] # empty list to store\n",
    "num = 1 # variable num starts at 1\n",
    "while num < 1000: # while loop 1-999\n",
    "    if num % 3 == 0 or num % 5 == 0: # % modulus operator gives remainder\n",
    "        multiples.append(num) # If the condition above is true, add (append) the number to the multiples list.\n",
    "    num += 1  # Increases num by 1.\n",
    "print(multiples)"
   ]
  },
  {
   "cell_type": "code",
   "execution_count": 2,
   "id": "97391c91-c662-413b-a139-3914c3b4232d",
   "metadata": {},
   "outputs": [
    {
     "name": "stdout",
     "output_type": "stream",
     "text": [
      "233168\n"
     ]
    }
   ],
   "source": [
    "total = sum(multiples)\n",
    "print(total)"
   ]
  },
  {
   "cell_type": "markdown",
   "id": "2161e596-4bf1-4b51-ba6c-c52710e87eb6",
   "metadata": {},
   "source": [
    "# Check\n",
    "== → equal to\n",
    "\n",
    "!= → not equal to\n",
    "\n",
    "< → less than\n",
    "\n",
    "\" > → greater than\n",
    "\n",
    "<= → less than or equal to\n",
    "\n",
    "\" >= → greater than or equal to\n",
    "\n",
    "\n",
    "# Assignment\n",
    "= → assignment\n",
    "\n",
    "+= → add and assign: x = x + n\n",
    "\n",
    "-= → subtract and assign\n",
    "\n",
    "*= → multiply and assign\n",
    "\n",
    "/= → divide and assign (always makes a float result)\n",
    "\n",
    "//= → floor divide and assign (integer division, always whole number only)\n",
    "\n",
    "%= → modulo and assign (remainder)\n",
    "\n",
    "**= → power and assign\n",
    "\n",
    "\n",
    "# Conditions\n",
    "and → both conditions must be true `(5 > 3) and (2 < 4)   # True`\n",
    "\n",
    "or → at least one condition is true `(5 > 10) or (3 == 3)  # True`\n",
    "\n",
    "not → reverses the condition `not (5 == 5)  # False`\n",
    "\n",
    "# Common Types of Variables in Python\n",
    "Integer (int) - Whole numbers (positive, negative, or zero)\n",
    "\n",
    "Floating-point (float) - Numbers with a decimal point or in scientific notation (fractions)\n",
    "\n",
    "String (str) - Text, enclosed in single ' ' or double \" \" quotes\n",
    "\n",
    "Boolean (bool)- Stores True or False\n",
    "\n",
    "List - An ordered collection of items (can mix types)\n",
    "`numbers = [1, 2, 3, 4]`\n",
    "\n",
    "Tuple - Like a list, but cannot be changed (immutable)\n",
    "`coords = (10, 20)`\n",
    "\n",
    "Dictionary (dict) - Key-value pairs (like a real dictionary)\n",
    "`student = {\"name\": \"Elijah\", \"age\": 21}`\n",
    "\n",
    "Set - Unordered collection with unique items only.\n",
    "`fruits = {\"apple\", \"banana\", \"apple\"}`\n",
    "`print(fruits)   # {'apple', 'banana'}`\n",
    "\n",
    "\n",
    "`range(start, stop, step)` → same, but skip numbers by `step`"
   ]
  },
  {
   "cell_type": "code",
   "execution_count": 3,
   "id": "f01e9b5d-5985-427b-841f-4be3ad305fc5",
   "metadata": {},
   "outputs": [
    {
     "name": "stdout",
     "output_type": "stream",
     "text": [
      "[3, 5, 6, 9, 10, 12, 15, 18, 20, 21, 24, 25, 27, 30, 33, 35, 36, 39, 40, 42, 45, 48, 50, 51, 54, 55, 57, 60, 63, 65, 66, 69, 70, 72, 75, 78, 80, 81, 84, 85, 87, 90, 93, 95, 96, 99, 100, 102, 105, 108, 110, 111, 114, 115, 117, 120, 123, 125, 126, 129, 130, 132, 135, 138, 140, 141, 144, 145, 147, 150, 153, 155, 156, 159, 160, 162, 165, 168, 170, 171, 174, 175, 177, 180, 183, 185, 186, 189, 190, 192, 195, 198, 200, 201, 204, 205, 207, 210, 213, 215, 216, 219, 220, 222, 225, 228, 230, 231, 234, 235, 237, 240, 243, 245, 246, 249, 250, 252, 255, 258, 260, 261, 264, 265, 267, 270, 273, 275, 276, 279, 280, 282, 285, 288, 290, 291, 294, 295, 297, 300, 303, 305, 306, 309, 310, 312, 315, 318, 320, 321, 324, 325, 327, 330, 333, 335, 336, 339, 340, 342, 345, 348, 350, 351, 354, 355, 357, 360, 363, 365, 366, 369, 370, 372, 375, 378, 380, 381, 384, 385, 387, 390, 393, 395, 396, 399, 400, 402, 405, 408, 410, 411, 414, 415, 417, 420, 423, 425, 426, 429, 430, 432, 435, 438, 440, 441, 444, 445, 447, 450, 453, 455, 456, 459, 460, 462, 465, 468, 470, 471, 474, 475, 477, 480, 483, 485, 486, 489, 490, 492, 495, 498, 500, 501, 504, 505, 507, 510, 513, 515, 516, 519, 520, 522, 525, 528, 530, 531, 534, 535, 537, 540, 543, 545, 546, 549, 550, 552, 555, 558, 560, 561, 564, 565, 567, 570, 573, 575, 576, 579, 580, 582, 585, 588, 590, 591, 594, 595, 597, 600, 603, 605, 606, 609, 610, 612, 615, 618, 620, 621, 624, 625, 627, 630, 633, 635, 636, 639, 640, 642, 645, 648, 650, 651, 654, 655, 657, 660, 663, 665, 666, 669, 670, 672, 675, 678, 680, 681, 684, 685, 687, 690, 693, 695, 696, 699, 700, 702, 705, 708, 710, 711, 714, 715, 717, 720, 723, 725, 726, 729, 730, 732, 735, 738, 740, 741, 744, 745, 747, 750, 753, 755, 756, 759, 760, 762, 765, 768, 770, 771, 774, 775, 777, 780, 783, 785, 786, 789, 790, 792, 795, 798, 800, 801, 804, 805, 807, 810, 813, 815, 816, 819, 820, 822, 825, 828, 830, 831, 834, 835, 837, 840, 843, 845, 846, 849, 850, 852, 855, 858, 860, 861, 864, 865, 867, 870, 873, 875, 876, 879, 880, 882, 885, 888, 890, 891, 894, 895, 897, 900, 903, 905, 906, 909, 910, 912, 915, 918, 920, 921, 924, 925, 927, 930, 933, 935, 936, 939, 940, 942, 945, 948, 950, 951, 954, 955, 957, 960, 963, 965, 966, 969, 970, 972, 975, 978, 980, 981, 984, 985, 987, 990, 993, 995, 996, 999]\n",
      "233168\n"
     ]
    }
   ],
   "source": [
    "# shorter ver according to ChatGPT:\n",
    "\n",
    "# Create a list of numbers below 1000 that are multiples of 3 or 5\n",
    "multiples = [num for num in range(1, 1000) if num % 3 == 0 or num % 5 == 0]\n",
    "\n",
    "# Print the list\n",
    "print(multiples)\n",
    "\n",
    "# (Optional) Print the sum of all multiples\n",
    "print(sum(multiples))\n",
    "\n",
    "# For each num in numbers from 1 to 999, put num in the list, if it’s divisible by 3 or 5"
   ]
  },
  {
   "cell_type": "code",
   "execution_count": null,
   "id": "a5e84102-1e21-4c4b-8b75-57915fcda9d0",
   "metadata": {},
   "outputs": [],
   "source": []
  }
 ],
 "metadata": {
  "kernelspec": {
   "display_name": "Python 3 (ipykernel)",
   "language": "python",
   "name": "python3"
  },
  "language_info": {
   "codemirror_mode": {
    "name": "ipython",
    "version": 3
   },
   "file_extension": ".py",
   "mimetype": "text/x-python",
   "name": "python",
   "nbconvert_exporter": "python",
   "pygments_lexer": "ipython3",
   "version": "3.13.6"
  }
 },
 "nbformat": 4,
 "nbformat_minor": 5
}
